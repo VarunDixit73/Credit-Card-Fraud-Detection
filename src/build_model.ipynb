{
 "cells": [
  {
   "cell_type": "markdown",
   "metadata": {},
   "source": [
    "# BUILDING THE TRAINED MODEL"
   ]
  },
  {
   "cell_type": "markdown",
   "metadata": {},
   "source": [
    "DATA PREPROCESSING"
   ]
  },
  {
   "cell_type": "code",
   "execution_count": 1,
   "metadata": {},
   "outputs": [],
   "source": [
    "import pandas as pd"
   ]
  },
  {
   "cell_type": "code",
   "execution_count": 2,
   "metadata": {},
   "outputs": [],
   "source": [
    "dataset = pd.read_csv('../dataset/train_dataset.csv', index_col = 0)"
   ]
  },
  {
   "cell_type": "code",
   "execution_count": 3,
   "metadata": {},
   "outputs": [
    {
     "data": {
      "text/html": [
       "<div>\n",
       "<style scoped>\n",
       "    .dataframe tbody tr th:only-of-type {\n",
       "        vertical-align: middle;\n",
       "    }\n",
       "\n",
       "    .dataframe tbody tr th {\n",
       "        vertical-align: top;\n",
       "    }\n",
       "\n",
       "    .dataframe thead th {\n",
       "        text-align: right;\n",
       "    }\n",
       "</style>\n",
       "<table border=\"1\" class=\"dataframe\">\n",
       "  <thead>\n",
       "    <tr style=\"text-align: right;\">\n",
       "      <th></th>\n",
       "      <th>trans_hour</th>\n",
       "      <th>trans_day</th>\n",
       "      <th>trans_month</th>\n",
       "      <th>trans_year</th>\n",
       "      <th>category</th>\n",
       "      <th>card_number</th>\n",
       "      <th>age</th>\n",
       "      <th>trans_amount</th>\n",
       "      <th>state</th>\n",
       "      <th>zip</th>\n",
       "      <th>fraud_risk</th>\n",
       "    </tr>\n",
       "  </thead>\n",
       "  <tbody>\n",
       "    <tr>\n",
       "      <th>0</th>\n",
       "      <td>0</td>\n",
       "      <td>1</td>\n",
       "      <td>1</td>\n",
       "      <td>2019</td>\n",
       "      <td>12</td>\n",
       "      <td>6.300000e+11</td>\n",
       "      <td>54</td>\n",
       "      <td>66.21</td>\n",
       "      <td>22</td>\n",
       "      <td>49879</td>\n",
       "      <td>0</td>\n",
       "    </tr>\n",
       "    <tr>\n",
       "      <th>1</th>\n",
       "      <td>1</td>\n",
       "      <td>1</td>\n",
       "      <td>1</td>\n",
       "      <td>2019</td>\n",
       "      <td>3</td>\n",
       "      <td>3.540000e+15</td>\n",
       "      <td>15</td>\n",
       "      <td>55.81</td>\n",
       "      <td>14</td>\n",
       "      <td>62668</td>\n",
       "      <td>0</td>\n",
       "    </tr>\n",
       "    <tr>\n",
       "      <th>2</th>\n",
       "      <td>3</td>\n",
       "      <td>1</td>\n",
       "      <td>1</td>\n",
       "      <td>2019</td>\n",
       "      <td>8</td>\n",
       "      <td>5.020000e+11</td>\n",
       "      <td>60</td>\n",
       "      <td>8.68</td>\n",
       "      <td>4</td>\n",
       "      <td>96037</td>\n",
       "      <td>0</td>\n",
       "    </tr>\n",
       "    <tr>\n",
       "      <th>3</th>\n",
       "      <td>6</td>\n",
       "      <td>1</td>\n",
       "      <td>1</td>\n",
       "      <td>2019</td>\n",
       "      <td>4</td>\n",
       "      <td>3.530000e+15</td>\n",
       "      <td>44</td>\n",
       "      <td>89.52</td>\n",
       "      <td>40</td>\n",
       "      <td>29911</td>\n",
       "      <td>0</td>\n",
       "    </tr>\n",
       "    <tr>\n",
       "      <th>4</th>\n",
       "      <td>6</td>\n",
       "      <td>1</td>\n",
       "      <td>1</td>\n",
       "      <td>2019</td>\n",
       "      <td>0</td>\n",
       "      <td>2.350000e+15</td>\n",
       "      <td>72</td>\n",
       "      <td>1.90</td>\n",
       "      <td>38</td>\n",
       "      <td>16421</td>\n",
       "      <td>0</td>\n",
       "    </tr>\n",
       "  </tbody>\n",
       "</table>\n",
       "</div>"
      ],
      "text/plain": [
       "   trans_hour  trans_day  trans_month  trans_year  category   card_number  \\\n",
       "0           0          1            1        2019        12  6.300000e+11   \n",
       "1           1          1            1        2019         3  3.540000e+15   \n",
       "2           3          1            1        2019         8  5.020000e+11   \n",
       "3           6          1            1        2019         4  3.530000e+15   \n",
       "4           6          1            1        2019         0  2.350000e+15   \n",
       "\n",
       "   age  trans_amount  state    zip  fraud_risk  \n",
       "0   54         66.21     22  49879           0  \n",
       "1   15         55.81     14  62668           0  \n",
       "2   60          8.68      4  96037           0  \n",
       "3   44         89.52     40  29911           0  \n",
       "4   72          1.90     38  16421           0  "
      ]
     },
     "execution_count": 3,
     "metadata": {},
     "output_type": "execute_result"
    }
   ],
   "source": [
    "dataset.head()"
   ]
  },
  {
   "cell_type": "code",
   "execution_count": 4,
   "metadata": {},
   "outputs": [],
   "source": [
    "import numpy as np"
   ]
  },
  {
   "cell_type": "code",
   "execution_count": 5,
   "metadata": {},
   "outputs": [],
   "source": [
    "x = dataset.iloc[ : , : 10].values\n",
    "y = dataset.iloc[ : , 10].values"
   ]
  },
  {
   "cell_type": "code",
   "execution_count": 6,
   "metadata": {},
   "outputs": [],
   "source": [
    "from sklearn.model_selection import train_test_split"
   ]
  },
  {
   "cell_type": "code",
   "execution_count": 7,
   "metadata": {},
   "outputs": [],
   "source": [
    "x_train, x_test, y_train, y_test = train_test_split(x, y, test_size = 0.15, random_state = 0)"
   ]
  },
  {
   "cell_type": "code",
   "execution_count": 8,
   "metadata": {},
   "outputs": [
    {
     "data": {
      "text/plain": [
       "(10210, 10)"
      ]
     },
     "execution_count": 8,
     "metadata": {},
     "output_type": "execute_result"
    }
   ],
   "source": [
    "x_train.shape"
   ]
  },
  {
   "cell_type": "code",
   "execution_count": 9,
   "metadata": {},
   "outputs": [
    {
     "data": {
      "text/plain": [
       "(1802, 10)"
      ]
     },
     "execution_count": 9,
     "metadata": {},
     "output_type": "execute_result"
    }
   ],
   "source": [
    "x_test.shape"
   ]
  },
  {
   "cell_type": "code",
   "execution_count": 10,
   "metadata": {},
   "outputs": [],
   "source": [
    "fraud = np.count_nonzero(y_train == 1)\n",
    "valid = np.count_nonzero(y_train == 0)"
   ]
  },
  {
   "cell_type": "code",
   "execution_count": 11,
   "metadata": {
    "scrolled": true
   },
   "outputs": [
    {
     "name": "stdout",
     "output_type": "stream",
     "text": [
      "Fraud cases in training data = 5106\n",
      "Valid cases in training data = 5104\n"
     ]
    }
   ],
   "source": [
    "print('Fraud cases in training data =', fraud)\n",
    "print('Valid cases in training data =', valid)"
   ]
  },
  {
   "cell_type": "code",
   "execution_count": 12,
   "metadata": {},
   "outputs": [],
   "source": [
    "from sklearn.preprocessing import StandardScaler\n",
    "scaler = StandardScaler()"
   ]
  },
  {
   "cell_type": "code",
   "execution_count": 13,
   "metadata": {},
   "outputs": [],
   "source": [
    "x_train = scaler.fit_transform(x_train)\n",
    "x_test = scaler.transform(x_test)"
   ]
  },
  {
   "cell_type": "code",
   "execution_count": 14,
   "metadata": {
    "scrolled": true
   },
   "outputs": [
    {
     "data": {
      "text/plain": [
       "array([[ 0.66337259,  1.24104545,  0.45653094, -0.37826057,  0.83408097,\n",
       "        -0.30554032,  2.3966382 , -0.73068363,  0.0181697 , -0.77660466],\n",
       "       [-1.6023747 , -0.07304053, -0.90455674, -0.37826057, -1.22335066,\n",
       "        -0.30836573,  0.74498916, -0.74861649,  0.64443135,  0.93890762],\n",
       "       [-1.12537527,  0.1459738 ,  0.45653094, -0.37826057,  0.57690202,\n",
       "        -0.30362247,  1.18542891, -0.79511806,  0.78360061, -1.2179066 ],\n",
       "       [-1.6023747 , -0.29205486, -0.36012167, -0.37826057, -0.70899275,\n",
       "        -0.30397763,  1.46070375, -0.51118115, -1.58227676,  1.76478537],\n",
       "       [-0.7676257 , -0.29205486, -1.44899181, -0.37826057, -0.70899275,\n",
       "        -0.30836532, -0.08083536,  0.02559291,  0.78360061, -1.18526965]])"
      ]
     },
     "execution_count": 14,
     "metadata": {},
     "output_type": "execute_result"
    }
   ],
   "source": [
    "x_train[ : 5]"
   ]
  },
  {
   "cell_type": "code",
   "execution_count": 15,
   "metadata": {},
   "outputs": [
    {
     "data": {
      "text/plain": [
       "array([[ 1.02112216, -0.51106919,  1.27318354, -0.37826057,  1.34843888,\n",
       "         3.15638262,  0.35960438,  1.60624238,  0.64443135,  0.91726066],\n",
       "       [-0.05212655,  0.58400246,  0.1843134 , -0.37826057,  0.83408097,\n",
       "        -0.30822372, -0.08083536, -0.65192446,  0.29650821, -1.52769864],\n",
       "       [ 1.14037202,  1.56956694,  0.72874847, -0.37826057,  1.09125992,\n",
       "        -0.30560345,  1.29553884,  1.71351642,  1.13152375,  1.07356281],\n",
       "       [ 1.02112216, -0.73008352,  0.1843134 , -0.37826057,  1.09125992,\n",
       "        -0.30500363,  1.51575871,  1.6205402 ,  0.15733896,  0.77172649],\n",
       "       [-1.6023747 , -0.07304053, -0.08790413, -0.37826057,  1.34843888,\n",
       "        -0.30819767,  0.80004413, -0.06571388, -0.60809196,  0.84854544]])"
      ]
     },
     "execution_count": 15,
     "metadata": {},
     "output_type": "execute_result"
    }
   ],
   "source": [
    "x_test[ : 5]"
   ]
  },
  {
   "cell_type": "markdown",
   "metadata": {},
   "source": [
    "LOGISTIC REGRESSION (LR)"
   ]
  },
  {
   "cell_type": "code",
   "execution_count": 16,
   "metadata": {},
   "outputs": [
    {
     "data": {
      "text/html": [
       "<style>#sk-container-id-1 {color: black;background-color: white;}#sk-container-id-1 pre{padding: 0;}#sk-container-id-1 div.sk-toggleable {background-color: white;}#sk-container-id-1 label.sk-toggleable__label {cursor: pointer;display: block;width: 100%;margin-bottom: 0;padding: 0.3em;box-sizing: border-box;text-align: center;}#sk-container-id-1 label.sk-toggleable__label-arrow:before {content: \"▸\";float: left;margin-right: 0.25em;color: #696969;}#sk-container-id-1 label.sk-toggleable__label-arrow:hover:before {color: black;}#sk-container-id-1 div.sk-estimator:hover label.sk-toggleable__label-arrow:before {color: black;}#sk-container-id-1 div.sk-toggleable__content {max-height: 0;max-width: 0;overflow: hidden;text-align: left;background-color: #f0f8ff;}#sk-container-id-1 div.sk-toggleable__content pre {margin: 0.2em;color: black;border-radius: 0.25em;background-color: #f0f8ff;}#sk-container-id-1 input.sk-toggleable__control:checked~div.sk-toggleable__content {max-height: 200px;max-width: 100%;overflow: auto;}#sk-container-id-1 input.sk-toggleable__control:checked~label.sk-toggleable__label-arrow:before {content: \"▾\";}#sk-container-id-1 div.sk-estimator input.sk-toggleable__control:checked~label.sk-toggleable__label {background-color: #d4ebff;}#sk-container-id-1 div.sk-label input.sk-toggleable__control:checked~label.sk-toggleable__label {background-color: #d4ebff;}#sk-container-id-1 input.sk-hidden--visually {border: 0;clip: rect(1px 1px 1px 1px);clip: rect(1px, 1px, 1px, 1px);height: 1px;margin: -1px;overflow: hidden;padding: 0;position: absolute;width: 1px;}#sk-container-id-1 div.sk-estimator {font-family: monospace;background-color: #f0f8ff;border: 1px dotted black;border-radius: 0.25em;box-sizing: border-box;margin-bottom: 0.5em;}#sk-container-id-1 div.sk-estimator:hover {background-color: #d4ebff;}#sk-container-id-1 div.sk-parallel-item::after {content: \"\";width: 100%;border-bottom: 1px solid gray;flex-grow: 1;}#sk-container-id-1 div.sk-label:hover label.sk-toggleable__label {background-color: #d4ebff;}#sk-container-id-1 div.sk-serial::before {content: \"\";position: absolute;border-left: 1px solid gray;box-sizing: border-box;top: 0;bottom: 0;left: 50%;z-index: 0;}#sk-container-id-1 div.sk-serial {display: flex;flex-direction: column;align-items: center;background-color: white;padding-right: 0.2em;padding-left: 0.2em;position: relative;}#sk-container-id-1 div.sk-item {position: relative;z-index: 1;}#sk-container-id-1 div.sk-parallel {display: flex;align-items: stretch;justify-content: center;background-color: white;position: relative;}#sk-container-id-1 div.sk-item::before, #sk-container-id-1 div.sk-parallel-item::before {content: \"\";position: absolute;border-left: 1px solid gray;box-sizing: border-box;top: 0;bottom: 0;left: 50%;z-index: -1;}#sk-container-id-1 div.sk-parallel-item {display: flex;flex-direction: column;z-index: 1;position: relative;background-color: white;}#sk-container-id-1 div.sk-parallel-item:first-child::after {align-self: flex-end;width: 50%;}#sk-container-id-1 div.sk-parallel-item:last-child::after {align-self: flex-start;width: 50%;}#sk-container-id-1 div.sk-parallel-item:only-child::after {width: 0;}#sk-container-id-1 div.sk-dashed-wrapped {border: 1px dashed gray;margin: 0 0.4em 0.5em 0.4em;box-sizing: border-box;padding-bottom: 0.4em;background-color: white;}#sk-container-id-1 div.sk-label label {font-family: monospace;font-weight: bold;display: inline-block;line-height: 1.2em;}#sk-container-id-1 div.sk-label-container {text-align: center;}#sk-container-id-1 div.sk-container {/* jupyter's `normalize.less` sets `[hidden] { display: none; }` but bootstrap.min.css set `[hidden] { display: none !important; }` so we also need the `!important` here to be able to override the default hidden behavior on the sphinx rendered scikit-learn.org. See: https://github.com/scikit-learn/scikit-learn/issues/21755 */display: inline-block !important;position: relative;}#sk-container-id-1 div.sk-text-repr-fallback {display: none;}</style><div id=\"sk-container-id-1\" class=\"sk-top-container\"><div class=\"sk-text-repr-fallback\"><pre>LogisticRegression(random_state=0)</pre><b>In a Jupyter environment, please rerun this cell to show the HTML representation or trust the notebook. <br />On GitHub, the HTML representation is unable to render, please try loading this page with nbviewer.org.</b></div><div class=\"sk-container\" hidden><div class=\"sk-item\"><div class=\"sk-estimator sk-toggleable\"><input class=\"sk-toggleable__control sk-hidden--visually\" id=\"sk-estimator-id-1\" type=\"checkbox\" checked><label for=\"sk-estimator-id-1\" class=\"sk-toggleable__label sk-toggleable__label-arrow\">LogisticRegression</label><div class=\"sk-toggleable__content\"><pre>LogisticRegression(random_state=0)</pre></div></div></div></div></div>"
      ],
      "text/plain": [
       "LogisticRegression(random_state=0)"
      ]
     },
     "execution_count": 16,
     "metadata": {},
     "output_type": "execute_result"
    }
   ],
   "source": [
    "from sklearn.linear_model import LogisticRegression\n",
    "LR_model = LogisticRegression(random_state = 0)\n",
    "LR_model.fit(x_train, y_train)"
   ]
  },
  {
   "cell_type": "code",
   "execution_count": 17,
   "metadata": {},
   "outputs": [],
   "source": [
    "y_pred = LR_model.predict(x_test)"
   ]
  },
  {
   "cell_type": "code",
   "execution_count": 18,
   "metadata": {},
   "outputs": [],
   "source": [
    "from sklearn.metrics import accuracy_score"
   ]
  },
  {
   "cell_type": "code",
   "execution_count": 19,
   "metadata": {},
   "outputs": [],
   "source": [
    "acc_lr = accuracy_score(y_test, y_pred)"
   ]
  },
  {
   "cell_type": "code",
   "execution_count": 20,
   "metadata": {},
   "outputs": [
    {
     "name": "stdout",
     "output_type": "stream",
     "text": [
      "0.8485016648168702\n"
     ]
    }
   ],
   "source": [
    "print(acc_lr)"
   ]
  },
  {
   "cell_type": "markdown",
   "metadata": {},
   "source": [
    "K-NEAREST NEIGHBORS (KNN)"
   ]
  },
  {
   "cell_type": "code",
   "execution_count": 21,
   "metadata": {},
   "outputs": [
    {
     "data": {
      "text/html": [
       "<style>#sk-container-id-2 {color: black;background-color: white;}#sk-container-id-2 pre{padding: 0;}#sk-container-id-2 div.sk-toggleable {background-color: white;}#sk-container-id-2 label.sk-toggleable__label {cursor: pointer;display: block;width: 100%;margin-bottom: 0;padding: 0.3em;box-sizing: border-box;text-align: center;}#sk-container-id-2 label.sk-toggleable__label-arrow:before {content: \"▸\";float: left;margin-right: 0.25em;color: #696969;}#sk-container-id-2 label.sk-toggleable__label-arrow:hover:before {color: black;}#sk-container-id-2 div.sk-estimator:hover label.sk-toggleable__label-arrow:before {color: black;}#sk-container-id-2 div.sk-toggleable__content {max-height: 0;max-width: 0;overflow: hidden;text-align: left;background-color: #f0f8ff;}#sk-container-id-2 div.sk-toggleable__content pre {margin: 0.2em;color: black;border-radius: 0.25em;background-color: #f0f8ff;}#sk-container-id-2 input.sk-toggleable__control:checked~div.sk-toggleable__content {max-height: 200px;max-width: 100%;overflow: auto;}#sk-container-id-2 input.sk-toggleable__control:checked~label.sk-toggleable__label-arrow:before {content: \"▾\";}#sk-container-id-2 div.sk-estimator input.sk-toggleable__control:checked~label.sk-toggleable__label {background-color: #d4ebff;}#sk-container-id-2 div.sk-label input.sk-toggleable__control:checked~label.sk-toggleable__label {background-color: #d4ebff;}#sk-container-id-2 input.sk-hidden--visually {border: 0;clip: rect(1px 1px 1px 1px);clip: rect(1px, 1px, 1px, 1px);height: 1px;margin: -1px;overflow: hidden;padding: 0;position: absolute;width: 1px;}#sk-container-id-2 div.sk-estimator {font-family: monospace;background-color: #f0f8ff;border: 1px dotted black;border-radius: 0.25em;box-sizing: border-box;margin-bottom: 0.5em;}#sk-container-id-2 div.sk-estimator:hover {background-color: #d4ebff;}#sk-container-id-2 div.sk-parallel-item::after {content: \"\";width: 100%;border-bottom: 1px solid gray;flex-grow: 1;}#sk-container-id-2 div.sk-label:hover label.sk-toggleable__label {background-color: #d4ebff;}#sk-container-id-2 div.sk-serial::before {content: \"\";position: absolute;border-left: 1px solid gray;box-sizing: border-box;top: 0;bottom: 0;left: 50%;z-index: 0;}#sk-container-id-2 div.sk-serial {display: flex;flex-direction: column;align-items: center;background-color: white;padding-right: 0.2em;padding-left: 0.2em;position: relative;}#sk-container-id-2 div.sk-item {position: relative;z-index: 1;}#sk-container-id-2 div.sk-parallel {display: flex;align-items: stretch;justify-content: center;background-color: white;position: relative;}#sk-container-id-2 div.sk-item::before, #sk-container-id-2 div.sk-parallel-item::before {content: \"\";position: absolute;border-left: 1px solid gray;box-sizing: border-box;top: 0;bottom: 0;left: 50%;z-index: -1;}#sk-container-id-2 div.sk-parallel-item {display: flex;flex-direction: column;z-index: 1;position: relative;background-color: white;}#sk-container-id-2 div.sk-parallel-item:first-child::after {align-self: flex-end;width: 50%;}#sk-container-id-2 div.sk-parallel-item:last-child::after {align-self: flex-start;width: 50%;}#sk-container-id-2 div.sk-parallel-item:only-child::after {width: 0;}#sk-container-id-2 div.sk-dashed-wrapped {border: 1px dashed gray;margin: 0 0.4em 0.5em 0.4em;box-sizing: border-box;padding-bottom: 0.4em;background-color: white;}#sk-container-id-2 div.sk-label label {font-family: monospace;font-weight: bold;display: inline-block;line-height: 1.2em;}#sk-container-id-2 div.sk-label-container {text-align: center;}#sk-container-id-2 div.sk-container {/* jupyter's `normalize.less` sets `[hidden] { display: none; }` but bootstrap.min.css set `[hidden] { display: none !important; }` so we also need the `!important` here to be able to override the default hidden behavior on the sphinx rendered scikit-learn.org. See: https://github.com/scikit-learn/scikit-learn/issues/21755 */display: inline-block !important;position: relative;}#sk-container-id-2 div.sk-text-repr-fallback {display: none;}</style><div id=\"sk-container-id-2\" class=\"sk-top-container\"><div class=\"sk-text-repr-fallback\"><pre>KNeighborsClassifier()</pre><b>In a Jupyter environment, please rerun this cell to show the HTML representation or trust the notebook. <br />On GitHub, the HTML representation is unable to render, please try loading this page with nbviewer.org.</b></div><div class=\"sk-container\" hidden><div class=\"sk-item\"><div class=\"sk-estimator sk-toggleable\"><input class=\"sk-toggleable__control sk-hidden--visually\" id=\"sk-estimator-id-2\" type=\"checkbox\" checked><label for=\"sk-estimator-id-2\" class=\"sk-toggleable__label sk-toggleable__label-arrow\">KNeighborsClassifier</label><div class=\"sk-toggleable__content\"><pre>KNeighborsClassifier()</pre></div></div></div></div></div>"
      ],
      "text/plain": [
       "KNeighborsClassifier()"
      ]
     },
     "execution_count": 21,
     "metadata": {},
     "output_type": "execute_result"
    }
   ],
   "source": [
    "from sklearn.neighbors import KNeighborsClassifier\n",
    "KNN_model = KNeighborsClassifier(n_neighbors = 5, metric = 'minkowski', p = 2)\n",
    "KNN_model.fit(x_train, y_train)"
   ]
  },
  {
   "cell_type": "code",
   "execution_count": 22,
   "metadata": {},
   "outputs": [],
   "source": [
    "y_pred = KNN_model.predict(x_test)"
   ]
  },
  {
   "cell_type": "code",
   "execution_count": 23,
   "metadata": {},
   "outputs": [],
   "source": [
    "acc_knn = accuracy_score(y_test, y_pred)"
   ]
  },
  {
   "cell_type": "code",
   "execution_count": 24,
   "metadata": {},
   "outputs": [
    {
     "name": "stdout",
     "output_type": "stream",
     "text": [
      "0.8657047724750278\n"
     ]
    }
   ],
   "source": [
    "print(acc_knn)"
   ]
  },
  {
   "cell_type": "markdown",
   "metadata": {},
   "source": [
    "SUPPORT VECTOR MACHINE (SVM)"
   ]
  },
  {
   "cell_type": "code",
   "execution_count": 25,
   "metadata": {},
   "outputs": [
    {
     "data": {
      "text/html": [
       "<style>#sk-container-id-3 {color: black;background-color: white;}#sk-container-id-3 pre{padding: 0;}#sk-container-id-3 div.sk-toggleable {background-color: white;}#sk-container-id-3 label.sk-toggleable__label {cursor: pointer;display: block;width: 100%;margin-bottom: 0;padding: 0.3em;box-sizing: border-box;text-align: center;}#sk-container-id-3 label.sk-toggleable__label-arrow:before {content: \"▸\";float: left;margin-right: 0.25em;color: #696969;}#sk-container-id-3 label.sk-toggleable__label-arrow:hover:before {color: black;}#sk-container-id-3 div.sk-estimator:hover label.sk-toggleable__label-arrow:before {color: black;}#sk-container-id-3 div.sk-toggleable__content {max-height: 0;max-width: 0;overflow: hidden;text-align: left;background-color: #f0f8ff;}#sk-container-id-3 div.sk-toggleable__content pre {margin: 0.2em;color: black;border-radius: 0.25em;background-color: #f0f8ff;}#sk-container-id-3 input.sk-toggleable__control:checked~div.sk-toggleable__content {max-height: 200px;max-width: 100%;overflow: auto;}#sk-container-id-3 input.sk-toggleable__control:checked~label.sk-toggleable__label-arrow:before {content: \"▾\";}#sk-container-id-3 div.sk-estimator input.sk-toggleable__control:checked~label.sk-toggleable__label {background-color: #d4ebff;}#sk-container-id-3 div.sk-label input.sk-toggleable__control:checked~label.sk-toggleable__label {background-color: #d4ebff;}#sk-container-id-3 input.sk-hidden--visually {border: 0;clip: rect(1px 1px 1px 1px);clip: rect(1px, 1px, 1px, 1px);height: 1px;margin: -1px;overflow: hidden;padding: 0;position: absolute;width: 1px;}#sk-container-id-3 div.sk-estimator {font-family: monospace;background-color: #f0f8ff;border: 1px dotted black;border-radius: 0.25em;box-sizing: border-box;margin-bottom: 0.5em;}#sk-container-id-3 div.sk-estimator:hover {background-color: #d4ebff;}#sk-container-id-3 div.sk-parallel-item::after {content: \"\";width: 100%;border-bottom: 1px solid gray;flex-grow: 1;}#sk-container-id-3 div.sk-label:hover label.sk-toggleable__label {background-color: #d4ebff;}#sk-container-id-3 div.sk-serial::before {content: \"\";position: absolute;border-left: 1px solid gray;box-sizing: border-box;top: 0;bottom: 0;left: 50%;z-index: 0;}#sk-container-id-3 div.sk-serial {display: flex;flex-direction: column;align-items: center;background-color: white;padding-right: 0.2em;padding-left: 0.2em;position: relative;}#sk-container-id-3 div.sk-item {position: relative;z-index: 1;}#sk-container-id-3 div.sk-parallel {display: flex;align-items: stretch;justify-content: center;background-color: white;position: relative;}#sk-container-id-3 div.sk-item::before, #sk-container-id-3 div.sk-parallel-item::before {content: \"\";position: absolute;border-left: 1px solid gray;box-sizing: border-box;top: 0;bottom: 0;left: 50%;z-index: -1;}#sk-container-id-3 div.sk-parallel-item {display: flex;flex-direction: column;z-index: 1;position: relative;background-color: white;}#sk-container-id-3 div.sk-parallel-item:first-child::after {align-self: flex-end;width: 50%;}#sk-container-id-3 div.sk-parallel-item:last-child::after {align-self: flex-start;width: 50%;}#sk-container-id-3 div.sk-parallel-item:only-child::after {width: 0;}#sk-container-id-3 div.sk-dashed-wrapped {border: 1px dashed gray;margin: 0 0.4em 0.5em 0.4em;box-sizing: border-box;padding-bottom: 0.4em;background-color: white;}#sk-container-id-3 div.sk-label label {font-family: monospace;font-weight: bold;display: inline-block;line-height: 1.2em;}#sk-container-id-3 div.sk-label-container {text-align: center;}#sk-container-id-3 div.sk-container {/* jupyter's `normalize.less` sets `[hidden] { display: none; }` but bootstrap.min.css set `[hidden] { display: none !important; }` so we also need the `!important` here to be able to override the default hidden behavior on the sphinx rendered scikit-learn.org. See: https://github.com/scikit-learn/scikit-learn/issues/21755 */display: inline-block !important;position: relative;}#sk-container-id-3 div.sk-text-repr-fallback {display: none;}</style><div id=\"sk-container-id-3\" class=\"sk-top-container\"><div class=\"sk-text-repr-fallback\"><pre>SVC(kernel=&#x27;linear&#x27;, random_state=0)</pre><b>In a Jupyter environment, please rerun this cell to show the HTML representation or trust the notebook. <br />On GitHub, the HTML representation is unable to render, please try loading this page with nbviewer.org.</b></div><div class=\"sk-container\" hidden><div class=\"sk-item\"><div class=\"sk-estimator sk-toggleable\"><input class=\"sk-toggleable__control sk-hidden--visually\" id=\"sk-estimator-id-3\" type=\"checkbox\" checked><label for=\"sk-estimator-id-3\" class=\"sk-toggleable__label sk-toggleable__label-arrow\">SVC</label><div class=\"sk-toggleable__content\"><pre>SVC(kernel=&#x27;linear&#x27;, random_state=0)</pre></div></div></div></div></div>"
      ],
      "text/plain": [
       "SVC(kernel='linear', random_state=0)"
      ]
     },
     "execution_count": 25,
     "metadata": {},
     "output_type": "execute_result"
    }
   ],
   "source": [
    "from sklearn.svm import SVC\n",
    "SVM_model = SVC(kernel = 'linear', random_state = 0)\n",
    "SVM_model.fit(x_train, y_train)"
   ]
  },
  {
   "cell_type": "code",
   "execution_count": 26,
   "metadata": {},
   "outputs": [],
   "source": [
    "y_pred = SVM_model.predict(x_test)"
   ]
  },
  {
   "cell_type": "code",
   "execution_count": 27,
   "metadata": {
    "scrolled": false
   },
   "outputs": [],
   "source": [
    "acc_svm = accuracy_score(y_test, y_pred)"
   ]
  },
  {
   "cell_type": "code",
   "execution_count": 28,
   "metadata": {},
   "outputs": [
    {
     "name": "stdout",
     "output_type": "stream",
     "text": [
      "0.8479467258601554\n"
     ]
    }
   ],
   "source": [
    "print(acc_svm)"
   ]
  },
  {
   "cell_type": "markdown",
   "metadata": {},
   "source": [
    "NAIVE BAYES (NB)"
   ]
  },
  {
   "cell_type": "code",
   "execution_count": 29,
   "metadata": {},
   "outputs": [
    {
     "data": {
      "text/html": [
       "<style>#sk-container-id-4 {color: black;background-color: white;}#sk-container-id-4 pre{padding: 0;}#sk-container-id-4 div.sk-toggleable {background-color: white;}#sk-container-id-4 label.sk-toggleable__label {cursor: pointer;display: block;width: 100%;margin-bottom: 0;padding: 0.3em;box-sizing: border-box;text-align: center;}#sk-container-id-4 label.sk-toggleable__label-arrow:before {content: \"▸\";float: left;margin-right: 0.25em;color: #696969;}#sk-container-id-4 label.sk-toggleable__label-arrow:hover:before {color: black;}#sk-container-id-4 div.sk-estimator:hover label.sk-toggleable__label-arrow:before {color: black;}#sk-container-id-4 div.sk-toggleable__content {max-height: 0;max-width: 0;overflow: hidden;text-align: left;background-color: #f0f8ff;}#sk-container-id-4 div.sk-toggleable__content pre {margin: 0.2em;color: black;border-radius: 0.25em;background-color: #f0f8ff;}#sk-container-id-4 input.sk-toggleable__control:checked~div.sk-toggleable__content {max-height: 200px;max-width: 100%;overflow: auto;}#sk-container-id-4 input.sk-toggleable__control:checked~label.sk-toggleable__label-arrow:before {content: \"▾\";}#sk-container-id-4 div.sk-estimator input.sk-toggleable__control:checked~label.sk-toggleable__label {background-color: #d4ebff;}#sk-container-id-4 div.sk-label input.sk-toggleable__control:checked~label.sk-toggleable__label {background-color: #d4ebff;}#sk-container-id-4 input.sk-hidden--visually {border: 0;clip: rect(1px 1px 1px 1px);clip: rect(1px, 1px, 1px, 1px);height: 1px;margin: -1px;overflow: hidden;padding: 0;position: absolute;width: 1px;}#sk-container-id-4 div.sk-estimator {font-family: monospace;background-color: #f0f8ff;border: 1px dotted black;border-radius: 0.25em;box-sizing: border-box;margin-bottom: 0.5em;}#sk-container-id-4 div.sk-estimator:hover {background-color: #d4ebff;}#sk-container-id-4 div.sk-parallel-item::after {content: \"\";width: 100%;border-bottom: 1px solid gray;flex-grow: 1;}#sk-container-id-4 div.sk-label:hover label.sk-toggleable__label {background-color: #d4ebff;}#sk-container-id-4 div.sk-serial::before {content: \"\";position: absolute;border-left: 1px solid gray;box-sizing: border-box;top: 0;bottom: 0;left: 50%;z-index: 0;}#sk-container-id-4 div.sk-serial {display: flex;flex-direction: column;align-items: center;background-color: white;padding-right: 0.2em;padding-left: 0.2em;position: relative;}#sk-container-id-4 div.sk-item {position: relative;z-index: 1;}#sk-container-id-4 div.sk-parallel {display: flex;align-items: stretch;justify-content: center;background-color: white;position: relative;}#sk-container-id-4 div.sk-item::before, #sk-container-id-4 div.sk-parallel-item::before {content: \"\";position: absolute;border-left: 1px solid gray;box-sizing: border-box;top: 0;bottom: 0;left: 50%;z-index: -1;}#sk-container-id-4 div.sk-parallel-item {display: flex;flex-direction: column;z-index: 1;position: relative;background-color: white;}#sk-container-id-4 div.sk-parallel-item:first-child::after {align-self: flex-end;width: 50%;}#sk-container-id-4 div.sk-parallel-item:last-child::after {align-self: flex-start;width: 50%;}#sk-container-id-4 div.sk-parallel-item:only-child::after {width: 0;}#sk-container-id-4 div.sk-dashed-wrapped {border: 1px dashed gray;margin: 0 0.4em 0.5em 0.4em;box-sizing: border-box;padding-bottom: 0.4em;background-color: white;}#sk-container-id-4 div.sk-label label {font-family: monospace;font-weight: bold;display: inline-block;line-height: 1.2em;}#sk-container-id-4 div.sk-label-container {text-align: center;}#sk-container-id-4 div.sk-container {/* jupyter's `normalize.less` sets `[hidden] { display: none; }` but bootstrap.min.css set `[hidden] { display: none !important; }` so we also need the `!important` here to be able to override the default hidden behavior on the sphinx rendered scikit-learn.org. See: https://github.com/scikit-learn/scikit-learn/issues/21755 */display: inline-block !important;position: relative;}#sk-container-id-4 div.sk-text-repr-fallback {display: none;}</style><div id=\"sk-container-id-4\" class=\"sk-top-container\"><div class=\"sk-text-repr-fallback\"><pre>GaussianNB()</pre><b>In a Jupyter environment, please rerun this cell to show the HTML representation or trust the notebook. <br />On GitHub, the HTML representation is unable to render, please try loading this page with nbviewer.org.</b></div><div class=\"sk-container\" hidden><div class=\"sk-item\"><div class=\"sk-estimator sk-toggleable\"><input class=\"sk-toggleable__control sk-hidden--visually\" id=\"sk-estimator-id-4\" type=\"checkbox\" checked><label for=\"sk-estimator-id-4\" class=\"sk-toggleable__label sk-toggleable__label-arrow\">GaussianNB</label><div class=\"sk-toggleable__content\"><pre>GaussianNB()</pre></div></div></div></div></div>"
      ],
      "text/plain": [
       "GaussianNB()"
      ]
     },
     "execution_count": 29,
     "metadata": {},
     "output_type": "execute_result"
    }
   ],
   "source": [
    "from sklearn.naive_bayes import GaussianNB\n",
    "NB_model = GaussianNB()\n",
    "NB_model.fit(x_train, y_train)"
   ]
  },
  {
   "cell_type": "code",
   "execution_count": 30,
   "metadata": {},
   "outputs": [],
   "source": [
    "y_pred = NB_model.predict(x_test)"
   ]
  },
  {
   "cell_type": "code",
   "execution_count": 31,
   "metadata": {},
   "outputs": [],
   "source": [
    "acc_nb = accuracy_score(y_test, y_pred)"
   ]
  },
  {
   "cell_type": "code",
   "execution_count": 32,
   "metadata": {},
   "outputs": [
    {
     "name": "stdout",
     "output_type": "stream",
     "text": [
      "0.8496115427302997\n"
     ]
    }
   ],
   "source": [
    "print(acc_nb)"
   ]
  },
  {
   "cell_type": "markdown",
   "metadata": {},
   "source": [
    "DECISION TREE (DT)"
   ]
  },
  {
   "cell_type": "code",
   "execution_count": 33,
   "metadata": {},
   "outputs": [
    {
     "data": {
      "text/html": [
       "<style>#sk-container-id-5 {color: black;background-color: white;}#sk-container-id-5 pre{padding: 0;}#sk-container-id-5 div.sk-toggleable {background-color: white;}#sk-container-id-5 label.sk-toggleable__label {cursor: pointer;display: block;width: 100%;margin-bottom: 0;padding: 0.3em;box-sizing: border-box;text-align: center;}#sk-container-id-5 label.sk-toggleable__label-arrow:before {content: \"▸\";float: left;margin-right: 0.25em;color: #696969;}#sk-container-id-5 label.sk-toggleable__label-arrow:hover:before {color: black;}#sk-container-id-5 div.sk-estimator:hover label.sk-toggleable__label-arrow:before {color: black;}#sk-container-id-5 div.sk-toggleable__content {max-height: 0;max-width: 0;overflow: hidden;text-align: left;background-color: #f0f8ff;}#sk-container-id-5 div.sk-toggleable__content pre {margin: 0.2em;color: black;border-radius: 0.25em;background-color: #f0f8ff;}#sk-container-id-5 input.sk-toggleable__control:checked~div.sk-toggleable__content {max-height: 200px;max-width: 100%;overflow: auto;}#sk-container-id-5 input.sk-toggleable__control:checked~label.sk-toggleable__label-arrow:before {content: \"▾\";}#sk-container-id-5 div.sk-estimator input.sk-toggleable__control:checked~label.sk-toggleable__label {background-color: #d4ebff;}#sk-container-id-5 div.sk-label input.sk-toggleable__control:checked~label.sk-toggleable__label {background-color: #d4ebff;}#sk-container-id-5 input.sk-hidden--visually {border: 0;clip: rect(1px 1px 1px 1px);clip: rect(1px, 1px, 1px, 1px);height: 1px;margin: -1px;overflow: hidden;padding: 0;position: absolute;width: 1px;}#sk-container-id-5 div.sk-estimator {font-family: monospace;background-color: #f0f8ff;border: 1px dotted black;border-radius: 0.25em;box-sizing: border-box;margin-bottom: 0.5em;}#sk-container-id-5 div.sk-estimator:hover {background-color: #d4ebff;}#sk-container-id-5 div.sk-parallel-item::after {content: \"\";width: 100%;border-bottom: 1px solid gray;flex-grow: 1;}#sk-container-id-5 div.sk-label:hover label.sk-toggleable__label {background-color: #d4ebff;}#sk-container-id-5 div.sk-serial::before {content: \"\";position: absolute;border-left: 1px solid gray;box-sizing: border-box;top: 0;bottom: 0;left: 50%;z-index: 0;}#sk-container-id-5 div.sk-serial {display: flex;flex-direction: column;align-items: center;background-color: white;padding-right: 0.2em;padding-left: 0.2em;position: relative;}#sk-container-id-5 div.sk-item {position: relative;z-index: 1;}#sk-container-id-5 div.sk-parallel {display: flex;align-items: stretch;justify-content: center;background-color: white;position: relative;}#sk-container-id-5 div.sk-item::before, #sk-container-id-5 div.sk-parallel-item::before {content: \"\";position: absolute;border-left: 1px solid gray;box-sizing: border-box;top: 0;bottom: 0;left: 50%;z-index: -1;}#sk-container-id-5 div.sk-parallel-item {display: flex;flex-direction: column;z-index: 1;position: relative;background-color: white;}#sk-container-id-5 div.sk-parallel-item:first-child::after {align-self: flex-end;width: 50%;}#sk-container-id-5 div.sk-parallel-item:last-child::after {align-self: flex-start;width: 50%;}#sk-container-id-5 div.sk-parallel-item:only-child::after {width: 0;}#sk-container-id-5 div.sk-dashed-wrapped {border: 1px dashed gray;margin: 0 0.4em 0.5em 0.4em;box-sizing: border-box;padding-bottom: 0.4em;background-color: white;}#sk-container-id-5 div.sk-label label {font-family: monospace;font-weight: bold;display: inline-block;line-height: 1.2em;}#sk-container-id-5 div.sk-label-container {text-align: center;}#sk-container-id-5 div.sk-container {/* jupyter's `normalize.less` sets `[hidden] { display: none; }` but bootstrap.min.css set `[hidden] { display: none !important; }` so we also need the `!important` here to be able to override the default hidden behavior on the sphinx rendered scikit-learn.org. See: https://github.com/scikit-learn/scikit-learn/issues/21755 */display: inline-block !important;position: relative;}#sk-container-id-5 div.sk-text-repr-fallback {display: none;}</style><div id=\"sk-container-id-5\" class=\"sk-top-container\"><div class=\"sk-text-repr-fallback\"><pre>DecisionTreeClassifier(criterion=&#x27;entropy&#x27;, random_state=0)</pre><b>In a Jupyter environment, please rerun this cell to show the HTML representation or trust the notebook. <br />On GitHub, the HTML representation is unable to render, please try loading this page with nbviewer.org.</b></div><div class=\"sk-container\" hidden><div class=\"sk-item\"><div class=\"sk-estimator sk-toggleable\"><input class=\"sk-toggleable__control sk-hidden--visually\" id=\"sk-estimator-id-5\" type=\"checkbox\" checked><label for=\"sk-estimator-id-5\" class=\"sk-toggleable__label sk-toggleable__label-arrow\">DecisionTreeClassifier</label><div class=\"sk-toggleable__content\"><pre>DecisionTreeClassifier(criterion=&#x27;entropy&#x27;, random_state=0)</pre></div></div></div></div></div>"
      ],
      "text/plain": [
       "DecisionTreeClassifier(criterion='entropy', random_state=0)"
      ]
     },
     "execution_count": 33,
     "metadata": {},
     "output_type": "execute_result"
    }
   ],
   "source": [
    "from sklearn.tree import DecisionTreeClassifier\n",
    "DT_model = DecisionTreeClassifier(criterion = 'entropy', random_state = 0)\n",
    "DT_model.fit(x_train, y_train)"
   ]
  },
  {
   "cell_type": "code",
   "execution_count": 34,
   "metadata": {},
   "outputs": [],
   "source": [
    "y_pred = DT_model.predict(x_test)"
   ]
  },
  {
   "cell_type": "code",
   "execution_count": 35,
   "metadata": {},
   "outputs": [],
   "source": [
    "acc_dt = accuracy_score(y_test, y_pred)"
   ]
  },
  {
   "cell_type": "code",
   "execution_count": 36,
   "metadata": {},
   "outputs": [
    {
     "name": "stdout",
     "output_type": "stream",
     "text": [
      "0.967258601553829\n"
     ]
    }
   ],
   "source": [
    "print(acc_dt)"
   ]
  },
  {
   "cell_type": "markdown",
   "metadata": {},
   "source": [
    "RANDOM FOREST (RF)"
   ]
  },
  {
   "cell_type": "code",
   "execution_count": 37,
   "metadata": {},
   "outputs": [
    {
     "data": {
      "text/html": [
       "<style>#sk-container-id-6 {color: black;background-color: white;}#sk-container-id-6 pre{padding: 0;}#sk-container-id-6 div.sk-toggleable {background-color: white;}#sk-container-id-6 label.sk-toggleable__label {cursor: pointer;display: block;width: 100%;margin-bottom: 0;padding: 0.3em;box-sizing: border-box;text-align: center;}#sk-container-id-6 label.sk-toggleable__label-arrow:before {content: \"▸\";float: left;margin-right: 0.25em;color: #696969;}#sk-container-id-6 label.sk-toggleable__label-arrow:hover:before {color: black;}#sk-container-id-6 div.sk-estimator:hover label.sk-toggleable__label-arrow:before {color: black;}#sk-container-id-6 div.sk-toggleable__content {max-height: 0;max-width: 0;overflow: hidden;text-align: left;background-color: #f0f8ff;}#sk-container-id-6 div.sk-toggleable__content pre {margin: 0.2em;color: black;border-radius: 0.25em;background-color: #f0f8ff;}#sk-container-id-6 input.sk-toggleable__control:checked~div.sk-toggleable__content {max-height: 200px;max-width: 100%;overflow: auto;}#sk-container-id-6 input.sk-toggleable__control:checked~label.sk-toggleable__label-arrow:before {content: \"▾\";}#sk-container-id-6 div.sk-estimator input.sk-toggleable__control:checked~label.sk-toggleable__label {background-color: #d4ebff;}#sk-container-id-6 div.sk-label input.sk-toggleable__control:checked~label.sk-toggleable__label {background-color: #d4ebff;}#sk-container-id-6 input.sk-hidden--visually {border: 0;clip: rect(1px 1px 1px 1px);clip: rect(1px, 1px, 1px, 1px);height: 1px;margin: -1px;overflow: hidden;padding: 0;position: absolute;width: 1px;}#sk-container-id-6 div.sk-estimator {font-family: monospace;background-color: #f0f8ff;border: 1px dotted black;border-radius: 0.25em;box-sizing: border-box;margin-bottom: 0.5em;}#sk-container-id-6 div.sk-estimator:hover {background-color: #d4ebff;}#sk-container-id-6 div.sk-parallel-item::after {content: \"\";width: 100%;border-bottom: 1px solid gray;flex-grow: 1;}#sk-container-id-6 div.sk-label:hover label.sk-toggleable__label {background-color: #d4ebff;}#sk-container-id-6 div.sk-serial::before {content: \"\";position: absolute;border-left: 1px solid gray;box-sizing: border-box;top: 0;bottom: 0;left: 50%;z-index: 0;}#sk-container-id-6 div.sk-serial {display: flex;flex-direction: column;align-items: center;background-color: white;padding-right: 0.2em;padding-left: 0.2em;position: relative;}#sk-container-id-6 div.sk-item {position: relative;z-index: 1;}#sk-container-id-6 div.sk-parallel {display: flex;align-items: stretch;justify-content: center;background-color: white;position: relative;}#sk-container-id-6 div.sk-item::before, #sk-container-id-6 div.sk-parallel-item::before {content: \"\";position: absolute;border-left: 1px solid gray;box-sizing: border-box;top: 0;bottom: 0;left: 50%;z-index: -1;}#sk-container-id-6 div.sk-parallel-item {display: flex;flex-direction: column;z-index: 1;position: relative;background-color: white;}#sk-container-id-6 div.sk-parallel-item:first-child::after {align-self: flex-end;width: 50%;}#sk-container-id-6 div.sk-parallel-item:last-child::after {align-self: flex-start;width: 50%;}#sk-container-id-6 div.sk-parallel-item:only-child::after {width: 0;}#sk-container-id-6 div.sk-dashed-wrapped {border: 1px dashed gray;margin: 0 0.4em 0.5em 0.4em;box-sizing: border-box;padding-bottom: 0.4em;background-color: white;}#sk-container-id-6 div.sk-label label {font-family: monospace;font-weight: bold;display: inline-block;line-height: 1.2em;}#sk-container-id-6 div.sk-label-container {text-align: center;}#sk-container-id-6 div.sk-container {/* jupyter's `normalize.less` sets `[hidden] { display: none; }` but bootstrap.min.css set `[hidden] { display: none !important; }` so we also need the `!important` here to be able to override the default hidden behavior on the sphinx rendered scikit-learn.org. See: https://github.com/scikit-learn/scikit-learn/issues/21755 */display: inline-block !important;position: relative;}#sk-container-id-6 div.sk-text-repr-fallback {display: none;}</style><div id=\"sk-container-id-6\" class=\"sk-top-container\"><div class=\"sk-text-repr-fallback\"><pre>RandomForestClassifier()</pre><b>In a Jupyter environment, please rerun this cell to show the HTML representation or trust the notebook. <br />On GitHub, the HTML representation is unable to render, please try loading this page with nbviewer.org.</b></div><div class=\"sk-container\" hidden><div class=\"sk-item\"><div class=\"sk-estimator sk-toggleable\"><input class=\"sk-toggleable__control sk-hidden--visually\" id=\"sk-estimator-id-6\" type=\"checkbox\" checked><label for=\"sk-estimator-id-6\" class=\"sk-toggleable__label sk-toggleable__label-arrow\">RandomForestClassifier</label><div class=\"sk-toggleable__content\"><pre>RandomForestClassifier()</pre></div></div></div></div></div>"
      ],
      "text/plain": [
       "RandomForestClassifier()"
      ]
     },
     "execution_count": 37,
     "metadata": {},
     "output_type": "execute_result"
    }
   ],
   "source": [
    "from sklearn.ensemble import RandomForestClassifier\n",
    "RF_model = RandomForestClassifier()\n",
    "RF_model.fit(x_train, y_train)"
   ]
  },
  {
   "cell_type": "code",
   "execution_count": 38,
   "metadata": {},
   "outputs": [],
   "source": [
    "y_pred = RF_model.predict(x_test)"
   ]
  },
  {
   "cell_type": "code",
   "execution_count": 39,
   "metadata": {},
   "outputs": [],
   "source": [
    "acc_rf = accuracy_score(y_test, y_pred)"
   ]
  },
  {
   "cell_type": "code",
   "execution_count": 40,
   "metadata": {},
   "outputs": [
    {
     "name": "stdout",
     "output_type": "stream",
     "text": [
      "0.9700332963374029\n"
     ]
    }
   ],
   "source": [
    "print(acc_rf)"
   ]
  },
  {
   "cell_type": "markdown",
   "metadata": {},
   "source": [
    "ARTIFICIAL NEURAL NETWORK (ANN)"
   ]
  },
  {
   "cell_type": "code",
   "execution_count": 41,
   "metadata": {},
   "outputs": [],
   "source": [
    "import tensorflow as tf"
   ]
  },
  {
   "cell_type": "code",
   "execution_count": 42,
   "metadata": {},
   "outputs": [
    {
     "data": {
      "text/plain": [
       "'2.9.0'"
      ]
     },
     "execution_count": 42,
     "metadata": {},
     "output_type": "execute_result"
    }
   ],
   "source": [
    "tf.__version__"
   ]
  },
  {
   "cell_type": "code",
   "execution_count": 43,
   "metadata": {},
   "outputs": [],
   "source": [
    "ANN_model = tf.keras.models.Sequential()"
   ]
  },
  {
   "cell_type": "code",
   "execution_count": 44,
   "metadata": {},
   "outputs": [],
   "source": [
    "ANN_model.add(tf.keras.layers.Dense(64, input_dim = 10, activation = 'relu'))\n",
    "ANN_model.add(tf.keras.layers.Dense(128, activation = 'relu'))\n",
    "ANN_model.add(tf.keras.layers.Dense(1, activation = 'sigmoid'))"
   ]
  },
  {
   "cell_type": "code",
   "execution_count": 45,
   "metadata": {},
   "outputs": [],
   "source": [
    "ANN_model.compile(optimizer = 'adam', loss = 'binary_crossentropy', metrics = ['accuracy'])"
   ]
  },
  {
   "cell_type": "code",
   "execution_count": 46,
   "metadata": {
    "scrolled": true
   },
   "outputs": [
    {
     "name": "stdout",
     "output_type": "stream",
     "text": [
      "Epoch 1/200\n",
      "320/320 [==============================] - 3s 6ms/step - loss: 0.3978 - accuracy: 0.8330\n",
      "Epoch 2/200\n",
      "320/320 [==============================] - 2s 5ms/step - loss: 0.3204 - accuracy: 0.8534\n",
      "Epoch 3/200\n",
      "320/320 [==============================] - 1s 4ms/step - loss: 0.3048 - accuracy: 0.8604\n",
      "Epoch 4/200\n",
      "320/320 [==============================] - 1s 4ms/step - loss: 0.2951 - accuracy: 0.8655\n",
      "Epoch 5/200\n",
      "320/320 [==============================] - 1s 5ms/step - loss: 0.2879 - accuracy: 0.8696\n",
      "Epoch 6/200\n",
      "320/320 [==============================] - 2s 6ms/step - loss: 0.2802 - accuracy: 0.8747\n",
      "Epoch 7/200\n",
      "320/320 [==============================] - 2s 5ms/step - loss: 0.2730 - accuracy: 0.8760\n",
      "Epoch 8/200\n",
      "320/320 [==============================] - 1s 3ms/step - loss: 0.2627 - accuracy: 0.8850\n",
      "Epoch 9/200\n",
      "320/320 [==============================] - 1s 3ms/step - loss: 0.2543 - accuracy: 0.8928\n",
      "Epoch 10/200\n",
      "320/320 [==============================] - 1s 4ms/step - loss: 0.2460 - accuracy: 0.8968\n",
      "Epoch 11/200\n",
      "320/320 [==============================] - 1s 4ms/step - loss: 0.2342 - accuracy: 0.9076\n",
      "Epoch 12/200\n",
      "320/320 [==============================] - 1s 5ms/step - loss: 0.2252 - accuracy: 0.9079\n",
      "Epoch 13/200\n",
      "320/320 [==============================] - 1s 4ms/step - loss: 0.2148 - accuracy: 0.9123\n",
      "Epoch 14/200\n",
      "320/320 [==============================] - 1s 4ms/step - loss: 0.2060 - accuracy: 0.9205\n",
      "Epoch 15/200\n",
      "320/320 [==============================] - 1s 4ms/step - loss: 0.1951 - accuracy: 0.9250\n",
      "Epoch 16/200\n",
      "320/320 [==============================] - 1s 4ms/step - loss: 0.1894 - accuracy: 0.9262\n",
      "Epoch 17/200\n",
      "320/320 [==============================] - 1s 4ms/step - loss: 0.1800 - accuracy: 0.9300\n",
      "Epoch 18/200\n",
      "320/320 [==============================] - 1s 4ms/step - loss: 0.1737 - accuracy: 0.9345\n",
      "Epoch 19/200\n",
      "320/320 [==============================] - 1s 4ms/step - loss: 0.1700 - accuracy: 0.9356\n",
      "Epoch 20/200\n",
      "320/320 [==============================] - 1s 4ms/step - loss: 0.1618 - accuracy: 0.9387\n",
      "Epoch 21/200\n",
      "320/320 [==============================] - 1s 4ms/step - loss: 0.1588 - accuracy: 0.9395\n",
      "Epoch 22/200\n",
      "320/320 [==============================] - 1s 3ms/step - loss: 0.1573 - accuracy: 0.9400\n",
      "Epoch 23/200\n",
      "320/320 [==============================] - 1s 3ms/step - loss: 0.1525 - accuracy: 0.9416\n",
      "Epoch 24/200\n",
      "320/320 [==============================] - 1s 3ms/step - loss: 0.1484 - accuracy: 0.9414\n",
      "Epoch 25/200\n",
      "320/320 [==============================] - 1s 3ms/step - loss: 0.1441 - accuracy: 0.9430\n",
      "Epoch 26/200\n",
      "320/320 [==============================] - 1s 3ms/step - loss: 0.1427 - accuracy: 0.9431\n",
      "Epoch 27/200\n",
      "320/320 [==============================] - 1s 4ms/step - loss: 0.1394 - accuracy: 0.9451\n",
      "Epoch 28/200\n",
      "320/320 [==============================] - 1s 3ms/step - loss: 0.1379 - accuracy: 0.9469\n",
      "Epoch 29/200\n",
      "320/320 [==============================] - 1s 3ms/step - loss: 0.1376 - accuracy: 0.9452\n",
      "Epoch 30/200\n",
      "320/320 [==============================] - 1s 4ms/step - loss: 0.1321 - accuracy: 0.9505\n",
      "Epoch 31/200\n",
      "320/320 [==============================] - 1s 4ms/step - loss: 0.1290 - accuracy: 0.9486\n",
      "Epoch 32/200\n",
      "320/320 [==============================] - 1s 3ms/step - loss: 0.1276 - accuracy: 0.9520\n",
      "Epoch 33/200\n",
      "320/320 [==============================] - 1s 3ms/step - loss: 0.1319 - accuracy: 0.9444\n",
      "Epoch 34/200\n",
      "320/320 [==============================] - 1s 3ms/step - loss: 0.1265 - accuracy: 0.9501\n",
      "Epoch 35/200\n",
      "320/320 [==============================] - 1s 3ms/step - loss: 0.1256 - accuracy: 0.9505\n",
      "Epoch 36/200\n",
      "320/320 [==============================] - 1s 3ms/step - loss: 0.1230 - accuracy: 0.9518\n",
      "Epoch 37/200\n",
      "320/320 [==============================] - 1s 3ms/step - loss: 0.1189 - accuracy: 0.9517\n",
      "Epoch 38/200\n",
      "320/320 [==============================] - 1s 3ms/step - loss: 0.1196 - accuracy: 0.9521\n",
      "Epoch 39/200\n",
      "320/320 [==============================] - 1s 3ms/step - loss: 0.1186 - accuracy: 0.9520\n",
      "Epoch 40/200\n",
      "320/320 [==============================] - 1s 4ms/step - loss: 0.1170 - accuracy: 0.9535\n",
      "Epoch 41/200\n",
      "320/320 [==============================] - 1s 3ms/step - loss: 0.1147 - accuracy: 0.9536\n",
      "Epoch 42/200\n",
      "320/320 [==============================] - 1s 4ms/step - loss: 0.1156 - accuracy: 0.9545\n",
      "Epoch 43/200\n",
      "320/320 [==============================] - 2s 6ms/step - loss: 0.1136 - accuracy: 0.9535\n",
      "Epoch 44/200\n",
      "320/320 [==============================] - 1s 4ms/step - loss: 0.1127 - accuracy: 0.9550\n",
      "Epoch 45/200\n",
      "320/320 [==============================] - 1s 4ms/step - loss: 0.1121 - accuracy: 0.9563\n",
      "Epoch 46/200\n",
      "320/320 [==============================] - 2s 7ms/step - loss: 0.1087 - accuracy: 0.9566\n",
      "Epoch 47/200\n",
      "320/320 [==============================] - 2s 7ms/step - loss: 0.1096 - accuracy: 0.9572\n",
      "Epoch 48/200\n",
      "320/320 [==============================] - 2s 6ms/step - loss: 0.1077 - accuracy: 0.9574\n",
      "Epoch 49/200\n",
      "320/320 [==============================] - 2s 6ms/step - loss: 0.1056 - accuracy: 0.9581\n",
      "Epoch 50/200\n",
      "320/320 [==============================] - 2s 5ms/step - loss: 0.1082 - accuracy: 0.9568\n",
      "Epoch 51/200\n",
      "320/320 [==============================] - 2s 5ms/step - loss: 0.1054 - accuracy: 0.9589\n",
      "Epoch 52/200\n",
      "320/320 [==============================] - 1s 4ms/step - loss: 0.1001 - accuracy: 0.9615\n",
      "Epoch 53/200\n",
      "320/320 [==============================] - 1s 4ms/step - loss: 0.1028 - accuracy: 0.9601\n",
      "Epoch 54/200\n",
      "320/320 [==============================] - 1s 4ms/step - loss: 0.1028 - accuracy: 0.9584\n",
      "Epoch 55/200\n",
      "320/320 [==============================] - 1s 4ms/step - loss: 0.1025 - accuracy: 0.9567\n",
      "Epoch 56/200\n",
      "320/320 [==============================] - 1s 4ms/step - loss: 0.0999 - accuracy: 0.9598\n",
      "Epoch 57/200\n",
      "320/320 [==============================] - 1s 3ms/step - loss: 0.0970 - accuracy: 0.9618\n",
      "Epoch 58/200\n",
      "320/320 [==============================] - 1s 3ms/step - loss: 0.0982 - accuracy: 0.9606\n",
      "Epoch 59/200\n",
      "320/320 [==============================] - 1s 3ms/step - loss: 0.0958 - accuracy: 0.9608\n",
      "Epoch 60/200\n",
      "320/320 [==============================] - 1s 3ms/step - loss: 0.0973 - accuracy: 0.9587\n",
      "Epoch 61/200\n",
      "320/320 [==============================] - 1s 3ms/step - loss: 0.0954 - accuracy: 0.9623\n",
      "Epoch 62/200\n",
      "320/320 [==============================] - 1s 3ms/step - loss: 0.0944 - accuracy: 0.9626\n",
      "Epoch 63/200\n",
      "320/320 [==============================] - 1s 3ms/step - loss: 0.0913 - accuracy: 0.9643\n",
      "Epoch 64/200\n",
      "320/320 [==============================] - 1s 3ms/step - loss: 0.0918 - accuracy: 0.9635\n",
      "Epoch 65/200\n",
      "320/320 [==============================] - 1s 4ms/step - loss: 0.0942 - accuracy: 0.9621\n",
      "Epoch 66/200\n",
      "320/320 [==============================] - 1s 3ms/step - loss: 0.0922 - accuracy: 0.9635\n",
      "Epoch 67/200\n",
      "320/320 [==============================] - 1s 3ms/step - loss: 0.0881 - accuracy: 0.9651\n",
      "Epoch 68/200\n",
      "320/320 [==============================] - 1s 3ms/step - loss: 0.0890 - accuracy: 0.9641\n",
      "Epoch 69/200\n",
      "320/320 [==============================] - 1s 3ms/step - loss: 0.0874 - accuracy: 0.9656\n",
      "Epoch 70/200\n",
      "320/320 [==============================] - 1s 3ms/step - loss: 0.0864 - accuracy: 0.9645\n",
      "Epoch 71/200\n",
      "320/320 [==============================] - 1s 3ms/step - loss: 0.0866 - accuracy: 0.9648\n",
      "Epoch 72/200\n",
      "320/320 [==============================] - 1s 3ms/step - loss: 0.0855 - accuracy: 0.9657\n",
      "Epoch 73/200\n",
      "320/320 [==============================] - 1s 3ms/step - loss: 0.0864 - accuracy: 0.9640\n",
      "Epoch 74/200\n",
      "320/320 [==============================] - 1s 3ms/step - loss: 0.0854 - accuracy: 0.9662\n",
      "Epoch 75/200\n",
      "320/320 [==============================] - 1s 3ms/step - loss: 0.0819 - accuracy: 0.9654\n",
      "Epoch 76/200\n",
      "320/320 [==============================] - 1s 3ms/step - loss: 0.0823 - accuracy: 0.9657\n",
      "Epoch 77/200\n",
      "320/320 [==============================] - 1s 3ms/step - loss: 0.0833 - accuracy: 0.9678\n",
      "Epoch 78/200\n",
      "320/320 [==============================] - 1s 3ms/step - loss: 0.0808 - accuracy: 0.9680\n",
      "Epoch 79/200\n",
      "320/320 [==============================] - 1s 3ms/step - loss: 0.0795 - accuracy: 0.9688\n",
      "Epoch 80/200\n",
      "320/320 [==============================] - 1s 3ms/step - loss: 0.0791 - accuracy: 0.9692\n",
      "Epoch 81/200\n",
      "320/320 [==============================] - 1s 3ms/step - loss: 0.0832 - accuracy: 0.9663\n",
      "Epoch 82/200\n",
      "320/320 [==============================] - 1s 3ms/step - loss: 0.0763 - accuracy: 0.9689\n",
      "Epoch 83/200\n",
      "320/320 [==============================] - 1s 3ms/step - loss: 0.0895 - accuracy: 0.9625\n",
      "Epoch 84/200\n",
      "320/320 [==============================] - 1s 3ms/step - loss: 0.0764 - accuracy: 0.9699\n",
      "Epoch 85/200\n",
      "320/320 [==============================] - 1s 3ms/step - loss: 0.1047 - accuracy: 0.9611\n",
      "Epoch 86/200\n",
      "320/320 [==============================] - 1s 3ms/step - loss: 0.0719 - accuracy: 0.9712\n",
      "Epoch 87/200\n",
      "320/320 [==============================] - 1s 3ms/step - loss: 0.0716 - accuracy: 0.9715\n",
      "Epoch 88/200\n",
      "320/320 [==============================] - 1s 3ms/step - loss: 0.0704 - accuracy: 0.9721\n",
      "Epoch 89/200\n",
      "320/320 [==============================] - 1s 3ms/step - loss: 0.0734 - accuracy: 0.9704\n",
      "Epoch 90/200\n",
      "320/320 [==============================] - 1s 5ms/step - loss: 0.0758 - accuracy: 0.9697\n",
      "Epoch 91/200\n",
      "320/320 [==============================] - 2s 5ms/step - loss: 0.0723 - accuracy: 0.9715\n",
      "Epoch 92/200\n",
      "320/320 [==============================] - 1s 4ms/step - loss: 0.0712 - accuracy: 0.9706\n",
      "Epoch 93/200\n",
      "320/320 [==============================] - 1s 3ms/step - loss: 0.0702 - accuracy: 0.9726\n",
      "Epoch 94/200\n",
      "320/320 [==============================] - 1s 3ms/step - loss: 0.0689 - accuracy: 0.9726\n",
      "Epoch 95/200\n",
      "320/320 [==============================] - 1s 3ms/step - loss: 0.0763 - accuracy: 0.9683\n",
      "Epoch 96/200\n",
      "320/320 [==============================] - 1s 3ms/step - loss: 0.0680 - accuracy: 0.9741\n",
      "Epoch 97/200\n",
      "320/320 [==============================] - 1s 3ms/step - loss: 0.0680 - accuracy: 0.9728\n",
      "Epoch 98/200\n",
      "320/320 [==============================] - 1s 3ms/step - loss: 0.0717 - accuracy: 0.9714\n",
      "Epoch 99/200\n",
      "320/320 [==============================] - 1s 3ms/step - loss: 0.0732 - accuracy: 0.9700\n",
      "Epoch 100/200\n",
      "320/320 [==============================] - 1s 3ms/step - loss: 0.0679 - accuracy: 0.9722\n",
      "Epoch 101/200\n",
      "320/320 [==============================] - 1s 3ms/step - loss: 0.0665 - accuracy: 0.9726\n",
      "Epoch 102/200\n",
      "320/320 [==============================] - 1s 3ms/step - loss: 0.0653 - accuracy: 0.9752\n",
      "Epoch 103/200\n",
      "320/320 [==============================] - 1s 3ms/step - loss: 0.0635 - accuracy: 0.9756\n",
      "Epoch 104/200\n",
      "320/320 [==============================] - 1s 3ms/step - loss: 0.0635 - accuracy: 0.9742\n",
      "Epoch 105/200\n",
      "320/320 [==============================] - 1s 3ms/step - loss: 0.0640 - accuracy: 0.9746\n",
      "Epoch 106/200\n",
      "320/320 [==============================] - 1s 3ms/step - loss: 0.0670 - accuracy: 0.9738\n",
      "Epoch 107/200\n",
      "320/320 [==============================] - 1s 3ms/step - loss: 0.0617 - accuracy: 0.9755\n",
      "Epoch 108/200\n",
      "320/320 [==============================] - 1s 3ms/step - loss: 0.0655 - accuracy: 0.9746\n",
      "Epoch 109/200\n",
      "320/320 [==============================] - 1s 3ms/step - loss: 0.0599 - accuracy: 0.9764\n",
      "Epoch 110/200\n",
      "320/320 [==============================] - 1s 4ms/step - loss: 0.0668 - accuracy: 0.9746\n",
      "Epoch 111/200\n",
      "320/320 [==============================] - 1s 3ms/step - loss: 0.0619 - accuracy: 0.9761\n",
      "Epoch 112/200\n",
      "320/320 [==============================] - 1s 4ms/step - loss: 0.0640 - accuracy: 0.9738\n",
      "Epoch 113/200\n",
      "320/320 [==============================] - 1s 3ms/step - loss: 0.0642 - accuracy: 0.9738\n",
      "Epoch 114/200\n",
      "320/320 [==============================] - 1s 3ms/step - loss: 0.0579 - accuracy: 0.9769\n",
      "Epoch 115/200\n",
      "320/320 [==============================] - 1s 4ms/step - loss: 0.0605 - accuracy: 0.9751\n",
      "Epoch 116/200\n",
      "320/320 [==============================] - 1s 3ms/step - loss: 0.0537 - accuracy: 0.9789\n",
      "Epoch 117/200\n",
      "320/320 [==============================] - 1s 3ms/step - loss: 0.0580 - accuracy: 0.9770\n",
      "Epoch 118/200\n",
      "320/320 [==============================] - 1s 3ms/step - loss: 0.0614 - accuracy: 0.9745\n",
      "Epoch 119/200\n",
      "320/320 [==============================] - 1s 3ms/step - loss: 0.0550 - accuracy: 0.9787\n",
      "Epoch 120/200\n",
      "320/320 [==============================] - 1s 3ms/step - loss: 0.0573 - accuracy: 0.9775\n",
      "Epoch 121/200\n",
      "320/320 [==============================] - 1s 3ms/step - loss: 0.0539 - accuracy: 0.9790\n",
      "Epoch 122/200\n",
      "320/320 [==============================] - 1s 3ms/step - loss: 0.0542 - accuracy: 0.9786\n",
      "Epoch 123/200\n",
      "320/320 [==============================] - 1s 3ms/step - loss: 0.0557 - accuracy: 0.9783\n",
      "Epoch 124/200\n",
      "320/320 [==============================] - 1s 3ms/step - loss: 0.0576 - accuracy: 0.9767\n",
      "Epoch 125/200\n",
      "320/320 [==============================] - 1s 3ms/step - loss: 0.0715 - accuracy: 0.9724\n",
      "Epoch 126/200\n",
      "320/320 [==============================] - 1s 3ms/step - loss: 0.0568 - accuracy: 0.9775\n",
      "Epoch 127/200\n",
      "320/320 [==============================] - 1s 3ms/step - loss: 0.0501 - accuracy: 0.9817\n",
      "Epoch 128/200\n",
      "320/320 [==============================] - 1s 3ms/step - loss: 0.0512 - accuracy: 0.9808\n",
      "Epoch 129/200\n",
      "320/320 [==============================] - 1s 3ms/step - loss: 0.0530 - accuracy: 0.9793\n",
      "Epoch 130/200\n",
      "320/320 [==============================] - 1s 3ms/step - loss: 0.0496 - accuracy: 0.9811\n",
      "Epoch 131/200\n",
      "320/320 [==============================] - 1s 3ms/step - loss: 0.0475 - accuracy: 0.9821\n",
      "Epoch 132/200\n",
      "320/320 [==============================] - 1s 4ms/step - loss: 0.0489 - accuracy: 0.9818\n",
      "Epoch 133/200\n",
      "320/320 [==============================] - 1s 4ms/step - loss: 0.0574 - accuracy: 0.9793\n",
      "Epoch 134/200\n",
      "320/320 [==============================] - 1s 4ms/step - loss: 0.0486 - accuracy: 0.9822\n",
      "Epoch 135/200\n",
      "320/320 [==============================] - 1s 3ms/step - loss: 0.0460 - accuracy: 0.9824\n",
      "Epoch 136/200\n",
      "320/320 [==============================] - 1s 3ms/step - loss: 0.0526 - accuracy: 0.9785\n",
      "Epoch 137/200\n",
      "320/320 [==============================] - 1s 4ms/step - loss: 0.0537 - accuracy: 0.9786\n",
      "Epoch 138/200\n",
      "320/320 [==============================] - 1s 3ms/step - loss: 0.0500 - accuracy: 0.9803\n",
      "Epoch 139/200\n",
      "320/320 [==============================] - 1s 3ms/step - loss: 0.0463 - accuracy: 0.9823\n",
      "Epoch 140/200\n",
      "320/320 [==============================] - 1s 3ms/step - loss: 0.0459 - accuracy: 0.9825\n",
      "Epoch 141/200\n",
      "320/320 [==============================] - 1s 4ms/step - loss: 0.0516 - accuracy: 0.9802\n",
      "Epoch 142/200\n",
      "320/320 [==============================] - 1s 4ms/step - loss: 0.0472 - accuracy: 0.9816\n",
      "Epoch 143/200\n",
      "320/320 [==============================] - 1s 3ms/step - loss: 0.0444 - accuracy: 0.9834\n",
      "Epoch 144/200\n",
      "320/320 [==============================] - 1s 3ms/step - loss: 0.0458 - accuracy: 0.9832\n",
      "Epoch 145/200\n",
      "320/320 [==============================] - 1s 3ms/step - loss: 0.0507 - accuracy: 0.9802\n",
      "Epoch 146/200\n",
      "320/320 [==============================] - 1s 3ms/step - loss: 0.0424 - accuracy: 0.9844\n",
      "Epoch 147/200\n",
      "320/320 [==============================] - 1s 3ms/step - loss: 0.0474 - accuracy: 0.9833\n",
      "Epoch 148/200\n",
      "320/320 [==============================] - 1s 3ms/step - loss: 0.0453 - accuracy: 0.9828\n",
      "Epoch 149/200\n",
      "320/320 [==============================] - 1s 3ms/step - loss: 0.0454 - accuracy: 0.9833\n",
      "Epoch 150/200\n",
      "320/320 [==============================] - 1s 3ms/step - loss: 0.0478 - accuracy: 0.9830\n",
      "Epoch 151/200\n",
      "320/320 [==============================] - 1s 3ms/step - loss: 0.0416 - accuracy: 0.9842\n",
      "Epoch 152/200\n",
      "320/320 [==============================] - 1s 3ms/step - loss: 0.0437 - accuracy: 0.9839\n",
      "Epoch 153/200\n",
      "320/320 [==============================] - 1s 3ms/step - loss: 0.0428 - accuracy: 0.9839\n",
      "Epoch 154/200\n",
      "320/320 [==============================] - 1s 3ms/step - loss: 0.0403 - accuracy: 0.9849\n",
      "Epoch 155/200\n",
      "320/320 [==============================] - 1s 3ms/step - loss: 0.0487 - accuracy: 0.9814\n",
      "Epoch 156/200\n",
      "320/320 [==============================] - 1s 3ms/step - loss: 0.0373 - accuracy: 0.9875\n",
      "Epoch 157/200\n",
      "320/320 [==============================] - 1s 3ms/step - loss: 0.0408 - accuracy: 0.9847\n",
      "Epoch 158/200\n",
      "320/320 [==============================] - 1s 3ms/step - loss: 0.0410 - accuracy: 0.9852\n",
      "Epoch 159/200\n",
      "320/320 [==============================] - 1s 3ms/step - loss: 0.0458 - accuracy: 0.9817\n",
      "Epoch 160/200\n",
      "320/320 [==============================] - 1s 3ms/step - loss: 0.0382 - accuracy: 0.9866\n",
      "Epoch 161/200\n",
      "320/320 [==============================] - 1s 3ms/step - loss: 0.0482 - accuracy: 0.9820\n",
      "Epoch 162/200\n",
      "320/320 [==============================] - 1s 3ms/step - loss: 0.0378 - accuracy: 0.9858\n",
      "Epoch 163/200\n",
      "320/320 [==============================] - 1s 3ms/step - loss: 0.0375 - accuracy: 0.9864\n",
      "Epoch 164/200\n",
      "320/320 [==============================] - 1s 3ms/step - loss: 0.0378 - accuracy: 0.9854\n",
      "Epoch 165/200\n",
      "320/320 [==============================] - 1s 3ms/step - loss: 0.0376 - accuracy: 0.9875\n",
      "Epoch 166/200\n",
      "320/320 [==============================] - 1s 3ms/step - loss: 0.0392 - accuracy: 0.9851\n",
      "Epoch 167/200\n",
      "320/320 [==============================] - 1s 3ms/step - loss: 0.0416 - accuracy: 0.9840\n",
      "Epoch 168/200\n",
      "320/320 [==============================] - 1s 3ms/step - loss: 0.0367 - accuracy: 0.9859\n",
      "Epoch 169/200\n",
      "320/320 [==============================] - 1s 3ms/step - loss: 0.0363 - accuracy: 0.9866\n",
      "Epoch 170/200\n",
      "320/320 [==============================] - 1s 3ms/step - loss: 0.0571 - accuracy: 0.9799\n",
      "Epoch 171/200\n",
      "320/320 [==============================] - 1s 3ms/step - loss: 0.0361 - accuracy: 0.9862\n",
      "Epoch 172/200\n",
      "320/320 [==============================] - 1s 3ms/step - loss: 0.0346 - accuracy: 0.9879\n",
      "Epoch 173/200\n",
      "320/320 [==============================] - 1s 3ms/step - loss: 0.0361 - accuracy: 0.9873\n",
      "Epoch 174/200\n",
      "320/320 [==============================] - 1s 3ms/step - loss: 0.0335 - accuracy: 0.9872\n",
      "Epoch 175/200\n",
      "320/320 [==============================] - 1s 3ms/step - loss: 0.0335 - accuracy: 0.9879\n",
      "Epoch 176/200\n",
      "320/320 [==============================] - 1s 3ms/step - loss: 0.0343 - accuracy: 0.9880\n",
      "Epoch 177/200\n",
      "320/320 [==============================] - 1s 3ms/step - loss: 0.0371 - accuracy: 0.9854\n",
      "Epoch 178/200\n",
      "320/320 [==============================] - 1s 3ms/step - loss: 0.0318 - accuracy: 0.9891\n",
      "Epoch 179/200\n",
      "320/320 [==============================] - 1s 3ms/step - loss: 0.0441 - accuracy: 0.9840\n",
      "Epoch 180/200\n",
      "320/320 [==============================] - 1s 3ms/step - loss: 0.0502 - accuracy: 0.9822\n",
      "Epoch 181/200\n",
      "320/320 [==============================] - 1s 3ms/step - loss: 0.0328 - accuracy: 0.9883\n",
      "Epoch 182/200\n",
      "320/320 [==============================] - 1s 3ms/step - loss: 0.0306 - accuracy: 0.9890\n",
      "Epoch 183/200\n",
      "320/320 [==============================] - 1s 3ms/step - loss: 0.0343 - accuracy: 0.9877\n",
      "Epoch 184/200\n",
      "320/320 [==============================] - 1s 3ms/step - loss: 0.0294 - accuracy: 0.9903\n",
      "Epoch 185/200\n",
      "320/320 [==============================] - 1s 3ms/step - loss: 0.0303 - accuracy: 0.9888\n",
      "Epoch 186/200\n",
      "320/320 [==============================] - 1s 3ms/step - loss: 0.0347 - accuracy: 0.9877\n",
      "Epoch 187/200\n",
      "320/320 [==============================] - 1s 4ms/step - loss: 0.0295 - accuracy: 0.9907\n",
      "Epoch 188/200\n",
      "320/320 [==============================] - 1s 3ms/step - loss: 0.0387 - accuracy: 0.9849\n",
      "Epoch 189/200\n",
      "320/320 [==============================] - 1s 3ms/step - loss: 0.0337 - accuracy: 0.9880\n",
      "Epoch 190/200\n",
      "320/320 [==============================] - 1s 3ms/step - loss: 0.0301 - accuracy: 0.9893\n",
      "Epoch 191/200\n",
      "320/320 [==============================] - 1s 3ms/step - loss: 0.0312 - accuracy: 0.9893\n",
      "Epoch 192/200\n",
      "320/320 [==============================] - 1s 3ms/step - loss: 0.0315 - accuracy: 0.9884\n",
      "Epoch 193/200\n",
      "320/320 [==============================] - 1s 3ms/step - loss: 0.0415 - accuracy: 0.9844\n",
      "Epoch 194/200\n",
      "320/320 [==============================] - 1s 3ms/step - loss: 0.0406 - accuracy: 0.9852\n",
      "Epoch 195/200\n",
      "320/320 [==============================] - 1s 3ms/step - loss: 0.0278 - accuracy: 0.9910\n",
      "Epoch 196/200\n",
      "320/320 [==============================] - 1s 3ms/step - loss: 0.0256 - accuracy: 0.9925\n",
      "Epoch 197/200\n",
      "320/320 [==============================] - 1s 3ms/step - loss: 0.0260 - accuracy: 0.9922\n",
      "Epoch 198/200\n",
      "320/320 [==============================] - 1s 3ms/step - loss: 0.0282 - accuracy: 0.9903\n",
      "Epoch 199/200\n",
      "320/320 [==============================] - 1s 3ms/step - loss: 0.0378 - accuracy: 0.9861\n",
      "Epoch 200/200\n",
      "320/320 [==============================] - 1s 3ms/step - loss: 0.0352 - accuracy: 0.9882\n"
     ]
    },
    {
     "data": {
      "text/plain": [
       "<keras.callbacks.History at 0x25f712a3eb0>"
      ]
     },
     "execution_count": 46,
     "metadata": {},
     "output_type": "execute_result"
    }
   ],
   "source": [
    "ANN_model.fit(x_train, y_train, batch_size = 32, epochs = 200)"
   ]
  },
  {
   "cell_type": "code",
   "execution_count": 47,
   "metadata": {},
   "outputs": [],
   "source": [
    "loss, acc_ann = ANN_model.evaluate(x_train, y_train, verbose = 0)"
   ]
  },
  {
   "cell_type": "code",
   "execution_count": 48,
   "metadata": {},
   "outputs": [
    {
     "name": "stdout",
     "output_type": "stream",
     "text": [
      "0.9942213296890259\n"
     ]
    }
   ],
   "source": [
    "print(acc_ann)"
   ]
  },
  {
   "cell_type": "code",
   "execution_count": 49,
   "metadata": {},
   "outputs": [
    {
     "name": "stdout",
     "output_type": "stream",
     "text": [
      "57/57 [==============================] - 0s 3ms/step\n"
     ]
    }
   ],
   "source": [
    "y_pred = ANN_model.predict(x_test)\n",
    "y_pred[y_pred <= 0.5] = 0\n",
    "y_pred[y_pred > 0.5] = 1"
   ]
  },
  {
   "cell_type": "markdown",
   "metadata": {},
   "source": [
    "ACCURACY COMPARISON OF ALL THE MODELS"
   ]
  },
  {
   "cell_type": "code",
   "execution_count": 50,
   "metadata": {},
   "outputs": [],
   "source": [
    "scores = [acc_lr * 100,\n",
    "          acc_knn * 100,\n",
    "          acc_svm * 100,\n",
    "          acc_nb * 100,\n",
    "          acc_dt * 100,\n",
    "          acc_rf * 100,\n",
    "          acc_ann * 100]"
   ]
  },
  {
   "cell_type": "code",
   "execution_count": 51,
   "metadata": {},
   "outputs": [],
   "source": [
    "names = [\"Logistic Regression\",\n",
    "        \"K-Nearest Neighbors\",\n",
    "        \"Support Vector Machine\",\n",
    "        \"Naive Bayes\",\n",
    "        \"Decision Tree\",\n",
    "        \"Random Forest\",\n",
    "        \"Artificial Neural Network\"]"
   ]
  },
  {
   "cell_type": "code",
   "execution_count": 52,
   "metadata": {},
   "outputs": [],
   "source": [
    "df = pd.DataFrame()\n",
    "df['Algorithm Name'] = names\n",
    "df['Accuracy Score (%)'] = scores\n",
    "df = df.sort_values('Accuracy Score (%)', ascending = False)"
   ]
  },
  {
   "cell_type": "code",
   "execution_count": 53,
   "metadata": {
    "scrolled": true
   },
   "outputs": [
    {
     "data": {
      "text/html": [
       "<div>\n",
       "<style scoped>\n",
       "    .dataframe tbody tr th:only-of-type {\n",
       "        vertical-align: middle;\n",
       "    }\n",
       "\n",
       "    .dataframe tbody tr th {\n",
       "        vertical-align: top;\n",
       "    }\n",
       "\n",
       "    .dataframe thead th {\n",
       "        text-align: right;\n",
       "    }\n",
       "</style>\n",
       "<table border=\"1\" class=\"dataframe\">\n",
       "  <thead>\n",
       "    <tr style=\"text-align: right;\">\n",
       "      <th></th>\n",
       "      <th>Algorithm Name</th>\n",
       "      <th>Accuracy Score (%)</th>\n",
       "    </tr>\n",
       "  </thead>\n",
       "  <tbody>\n",
       "    <tr>\n",
       "      <th>6</th>\n",
       "      <td>Artificial Neural Network</td>\n",
       "      <td>99.422133</td>\n",
       "    </tr>\n",
       "    <tr>\n",
       "      <th>5</th>\n",
       "      <td>Random Forest</td>\n",
       "      <td>97.003330</td>\n",
       "    </tr>\n",
       "    <tr>\n",
       "      <th>4</th>\n",
       "      <td>Decision Tree</td>\n",
       "      <td>96.725860</td>\n",
       "    </tr>\n",
       "    <tr>\n",
       "      <th>1</th>\n",
       "      <td>K-Nearest Neighbors</td>\n",
       "      <td>86.570477</td>\n",
       "    </tr>\n",
       "    <tr>\n",
       "      <th>3</th>\n",
       "      <td>Naive Bayes</td>\n",
       "      <td>84.961154</td>\n",
       "    </tr>\n",
       "    <tr>\n",
       "      <th>0</th>\n",
       "      <td>Logistic Regression</td>\n",
       "      <td>84.850166</td>\n",
       "    </tr>\n",
       "    <tr>\n",
       "      <th>2</th>\n",
       "      <td>Support Vector Machine</td>\n",
       "      <td>84.794673</td>\n",
       "    </tr>\n",
       "  </tbody>\n",
       "</table>\n",
       "</div>"
      ],
      "text/plain": [
       "              Algorithm Name  Accuracy Score (%)\n",
       "6  Artificial Neural Network           99.422133\n",
       "5              Random Forest           97.003330\n",
       "4              Decision Tree           96.725860\n",
       "1        K-Nearest Neighbors           86.570477\n",
       "3                Naive Bayes           84.961154\n",
       "0        Logistic Regression           84.850166\n",
       "2     Support Vector Machine           84.794673"
      ]
     },
     "execution_count": 53,
     "metadata": {},
     "output_type": "execute_result"
    }
   ],
   "source": [
    "df"
   ]
  },
  {
   "cell_type": "code",
   "execution_count": 54,
   "metadata": {},
   "outputs": [],
   "source": [
    "import matplotlib.pyplot as plt\n",
    "import seaborn as sns"
   ]
  },
  {
   "cell_type": "code",
   "execution_count": 55,
   "metadata": {
    "scrolled": true
   },
   "outputs": [
    {
     "data": {
      "image/png": "[encoded data removed]",
      "text/plain": [
       "<Figure size 720x360 with 1 Axes>"
      ]
     },
     "metadata": {
      "needs_background": "light"
     },
     "output_type": "display_data"
    }
   ],
   "source": [
    "fig = plt.subplots(figsize = (10, 5))\n",
    "ax = sns.barplot(x = \"Accuracy Score (%)\", y = \"Algorithm Name\", data = df)"
   ]
  },
  {
   "cell_type": "markdown",
   "metadata": {},
   "source": [
    "SAVING THE BEST TRAINED MODEL"
   ]
  },
  {
   "cell_type": "code",
   "execution_count": 56,
   "metadata": {},
   "outputs": [],
   "source": [
    "import os.path"
   ]
  },
  {
   "cell_type": "code",
   "execution_count": 57,
   "metadata": {},
   "outputs": [],
   "source": [
    "if os.path.isfile('../model/project_model.h5') is False:\n",
    "    ANN_model.save('../model/project_model.h5')"
   ]
  },
  {
   "cell_type": "code",
   "execution_count": null,
   "metadata": {},
   "outputs": [],
   "source": []
  }
 ],
 "metadata": {
  "interpreter": {
   "hash": "be9c231c5b504d20b06eca3e25a941dec413bf062c515d7fd6b9384530ff9409"
  },
  "kernelspec": {
   "display_name": "Python 3.9.7 ('base')",
   "language": "python",
   "name": "python3"
  },
  "language_info": {
   "codemirror_mode": {
    "name": "ipython",
    "version": 3
   },
   "file_extension": ".py",
   "mimetype": "text/x-python",
   "name": "python",
   "nbconvert_exporter": "python",
   "pygments_lexer": "ipython3",
   "version": "3.9.7"
  }
 },
 "nbformat": 4,
 "nbformat_minor": 4
}
